{
 "cells": [
  {
   "cell_type": "code",
   "execution_count": 1,
   "metadata": {},
   "outputs": [],
   "source": [
    "from discreteEntropy import DiscreteEntropy"
   ]
  },
  {
   "cell_type": "code",
   "execution_count": null,
   "metadata": {},
   "outputs": [],
   "source": [
    "import numpy as np\n",
    "# Example usage\n",
    "# from discreteEntropy import DiscreteEntropy\n",
    "\n",
    "no_states = 10\n",
    "entropy_calculator = DiscreteEntropy()\n",
    "\n",
    "# Create a pandas series with random int values\n",
    "# random_data = [1, 2, 3, 3, 3, 4, 4, 5]\n",
    "\n",
    "# Create a pandas series with random binary values\n",
    "# random_data = [1, 0, 1, 0, 1, 0, 1, 0]\n",
    "\n",
    "# Create a pandas series with random values sampled from a Gaussian distribution\n",
    "# random_data = np.random.randn(10000000)\n",
    "\n",
    "# Create a pandas series with random binary values\n",
    "random_data = np.random.randint(2, size=100)\n",
    "\n",
    "# Calculate the entropy of the series\n",
    "entropy = entropy_calculator.discrete_entropy(random_data, no_states)\n",
    "print(\"Entropy:\", entropy)"
   ]
  }
 ],
 "metadata": {
  "kernelspec": {
   "display_name": "EAM",
   "language": "python",
   "name": "test1"
  },
  "language_info": {
   "codemirror_mode": {
    "name": "ipython",
    "version": 3
   },
   "file_extension": ".py",
   "mimetype": "text/x-python",
   "name": "python",
   "nbconvert_exporter": "python",
   "pygments_lexer": "ipython3",
   "version": "3.8.0"
  }
 },
 "nbformat": 4,
 "nbformat_minor": 2
}
