{
 "cells": [
  {
   "cell_type": "code",
   "execution_count": 5,
   "metadata": {},
   "outputs": [],
   "source": [
    "from differentialEntropy import DifferentialEntropy"
   ]
  },
  {
   "cell_type": "code",
   "execution_count": 6,
   "metadata": {},
   "outputs": [
    {
     "name": "stdout",
     "output_type": "stream",
     "text": [
      "Initialized DifferentialEntropy class\n",
      "Differential Entropy for Uniform Distribution: 3.3219280948873626\n",
      "Differential Entropy for Gaussian Distribution: 2.047083687159951\n"
     ]
    }
   ],
   "source": [
    "# Example usage\n",
    "entropy_calculator = DifferentialEntropy()\n",
    "\n",
    "# Define parameters\n",
    "params = {'lowBound': 0, 'uppBound': 10, 'sigma': 1, 'mu': 5}\n",
    "\n",
    "# Compute differential entropy for uniform distribution\n",
    "uniform_entropy = entropy_calculator.integration('uniform', params)\n",
    "print(\"Differential Entropy for Uniform Distribution:\", uniform_entropy)\n",
    "\n",
    "# Compute differential entropy for Gaussian distribution\n",
    "gaussian_entropy = entropy_calculator.integration('gaussian', params)\n",
    "print(\"Differential Entropy for Gaussian Distribution:\", gaussian_entropy)"
   ]
  }
 ],
 "metadata": {
  "kernelspec": {
   "display_name": "EAM",
   "language": "python",
   "name": "test1"
  },
  "language_info": {
   "codemirror_mode": {
    "name": "ipython",
    "version": 3
   },
   "file_extension": ".py",
   "mimetype": "text/x-python",
   "name": "python",
   "nbconvert_exporter": "python",
   "pygments_lexer": "ipython3",
   "version": "3.8.0"
  }
 },
 "nbformat": 4,
 "nbformat_minor": 2
}
